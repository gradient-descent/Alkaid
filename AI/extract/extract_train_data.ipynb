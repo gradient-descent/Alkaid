{
 "cells": [
  {
   "cell_type": "code",
   "execution_count": 1,
   "metadata": {
    "collapsed": true,
    "deletable": true,
    "editable": true
   },
   "outputs": [],
   "source": [
    "import sys\n",
    "\n",
    "sys.path.append('/home/shuo/Dropbox/projects/spiders/oa_spider')\n",
    "\n",
    "from utils import recent_years, sort_by_value\n",
    "from db import MongoManager\n",
    "\n",
    "mongo_manager = MongoManager()\n",
    "\n",
    "account_1 = {\n",
    "    \"id\": 'huangshuo',\n",
    "    \"password\": 'tjmc12345',\n",
    "}\n",
    "account_2 = {\n",
    "    \"id\": 'lihongwei',\n",
    "    \"password\": 'cmcc1234.',\n",
    "}\n",
    "\n",
    "collection_toread = account_2['id'] + '_toread'\n",
    "collection_labels = account_2['id'] + '_labels'\n",
    "collection_raw_train_data = account_2['id'] + '_raw_train_data'\n",
    "\n",
    "\n",
    "def get_labels_dict():\n",
    "    \"\"\"\n",
    "    Get group-label mapping\n",
    "    :return: Such as {group:label}\n",
    "    \"\"\"\n",
    "    labels_dict = {}\n",
    "    for label in mongo_manager.find(collection_labels):\n",
    "        for group in label['groups']:\n",
    "            labels_dict[group] = label['name']\n",
    "    return labels_dict\n"
   ]
  },
  {
   "cell_type": "code",
   "execution_count": 2,
   "metadata": {
    "collapsed": false,
    "deletable": true,
    "editable": true
   },
   "outputs": [
    {
     "data": {
      "text/plain": [
       "31241"
      ]
     },
     "execution_count": 2,
     "metadata": {},
     "output_type": "execute_result"
    }
   ],
   "source": [
    "# In this task,we interested in jobs which waiting_for_read_tag is True\n",
    "# But for train data integrity,we labeled all jobs ont only waiting-for-read\n",
    "# If the job is not waiting-for-read,we labeled its readers with 'NOBODY'\n",
    "\n",
    "# query = {\n",
    "#     'job_type': '部门收文',\n",
    "#     'waiting_for_read_tag': True\n",
    "# }\n",
    "\n",
    "persist_to = collection_toread\n",
    "account = account_2\n",
    "for year in recent_years():\n",
    "    # jobs = process_raw_data(\n",
    "    #     account=account_2['id'],\n",
    "    #     year=year,\n",
    "    #     query=query,\n",
    "    # )\n",
    "    jobs = mongo_manager.find(account['id'] + '_' + str(year))\n",
    "    for job in jobs:\n",
    "        refined = dict()\n",
    "        refined['title'] = job['title']\n",
    "        refined['job_id'] = job['job_id']\n",
    "        # Some jobs' readers is [],so must check if job['readers'] is null or not\n",
    "        if 'waiting_for_read_tag' in job.keys() \\\n",
    "                and job['readers']:\n",
    "            # De-duplication,sort and serialization\n",
    "            refined['readers'] = ['|'.join(sorted(set(job['readers'])))\n",
    "                                  if len(job['readers']) > 1\n",
    "                                  else job['readers'][0]]\n",
    "        else:\n",
    "            refined['readers'] = 'NOBODY'\n",
    "        mongo_manager.insert(\n",
    "            collection=persist_to,\n",
    "            value=refined\n",
    "        )\n",
    "\n",
    "mongo_manager.count(persist_to)\n"
   ]
  },
  {
   "cell_type": "code",
   "execution_count": 3,
   "metadata": {
    "collapsed": false,
    "deletable": true,
    "editable": true
   },
   "outputs": [],
   "source": [
    "grouped_jobs = {}\n",
    "\n",
    "groups, count = \\\n",
    "    mongo_manager.distinct(collection_toread, 'readers')\n",
    "for group in groups:\n",
    "    query = {'readers': group}\n",
    "    grouped_jobs[group] = mongo_manager.count(\n",
    "        collection_toread, query)\n",
    "    # print(\"{group}: {count}\".format(\n",
    "    #     group=group,\n",
    "    #     count=grouped_jobs[group]\n",
    "    # ))\n",
    "top_readers = sort_by_value(d=grouped_jobs)\n"
   ]
  },
  {
   "cell_type": "code",
   "execution_count": 5,
   "metadata": {
    "collapsed": true,
    "deletable": true,
    "editable": true
   },
   "outputs": [],
   "source": [
    "# To check given readers read what\n",
    "query = {'readers': '阚建杰'}\n",
    "jobs = mongo_manager.find(collection_toread, query)\n",
    "count = 0\n",
    "for job in jobs:\n",
    "    count += 1\n",
    "    print(job)\n",
    "count\n"
   ]
  },
  {
   "cell_type": "code",
   "execution_count": 3,
   "metadata": {
    "collapsed": true,
    "deletable": true,
    "editable": true
   },
   "outputs": [],
   "source": [
    "# To organize interested labels\n",
    "label_trans = {\n",
    "    'name': 'UNK',\n",
    "    'groups': [],\n",
    "    'description': '未知分组',\n",
    "}\n",
    "mongo_manager.upsert_one(\n",
    "    collection=collection_labels,\n",
    "    conditions={'name': label_trans['name']},\n",
    "    value=label_trans\n",
    ")\n",
    "###################################\n",
    "label_trans = {\n",
    "    'name': 'transmission',\n",
    "    'groups': ['吴铭峰', '李林宪|王云山|王志宽|蔡向阳'],\n",
    "    'description': '传输组',\n",
    "}\n",
    "mongo_manager.upsert_one(\n",
    "    collection=collection_labels,\n",
    "    conditions={'name': label_trans['name']},\n",
    "    value=label_trans\n",
    ")\n",
    "###################################\n",
    "# label_general = {\n",
    "#     'name': 'general_manager',\n",
    "#     'groups': ['王云山', '阚建杰'],\n",
    "#     'description': '总经理',\n",
    "# }\n",
    "# mongo_manager.upsert_one(\n",
    "#     collection=collection_labels,\n",
    "#     conditions={'name': label_general['name']},\n",
    "#     value=label_general\n",
    "# )\n",
    "###################################\n",
    "label_wireless = {\n",
    "    'name': 'wireless',\n",
    "    'groups': ['景昊|王乐3|王争|陈奇志', '景昊|王乐3|王争|王云山|陈奇志'],\n",
    "    'description': '无线组（不需要过总经理的文）',\n",
    "}\n",
    "mongo_manager.upsert_one(\n",
    "    collection=collection_labels,\n",
    "    conditions={'name': label_wireless['name']},\n",
    "    value=label_wireless\n",
    ")\n",
    "###################################\n",
    "# label_wireless_with_mgr = {\n",
    "#     'name': 'wireless_with_manager',\n",
    "#     'groups': ['景昊|王乐3|王争|王云山|陈奇志'],\n",
    "#     'description': '无线组（需要过总经理的文）',\n",
    "# }\n",
    "# mongo_manager.upsert_one(\n",
    "#     collection=collection_labels,\n",
    "#     conditions={'name': label_wireless_with_mgr['name']},\n",
    "#     value=label_wireless_with_mgr\n",
    "# )\n",
    "###################################\n",
    "label_infrastructure = {\n",
    "    'name': 'infrastructure',\n",
    "    'groups': ['杨增宝'],\n",
    "    'description': '基础配套组',\n",
    "}\n",
    "mongo_manager.upsert_one(\n",
    "    collection=collection_labels,\n",
    "    conditions={'name': label_infrastructure['name']},\n",
    "    value=label_infrastructure\n",
    ")\n"
   ]
  },
  {
   "cell_type": "code",
   "execution_count": null,
   "metadata": {
    "collapsed": true,
    "deletable": true,
    "editable": true
   },
   "outputs": [],
   "source": [
    "labels_dict = get_labels_dict()\n",
    "persist_to = collection_raw_train_data\n",
    "for job in mongo_manager.find(collection_toread):\n",
    "    value = dict()\n",
    "    value['title'] = job['title']\n",
    "    value['job_id'] = job['job_id']\n",
    "    if job['readers'][0] in labels_dict.keys():\n",
    "        value['label'] = labels_dict[job['readers'][0]]\n",
    "    else:\n",
    "        value['label'] = 'UNK'  # labels_dict[0]\n",
    "    mongo_manager.insert(\n",
    "        collection=persist_to,\n",
    "        value=value\n",
    "    )\n"
   ]
  },
  {
   "cell_type": "code",
   "execution_count": 8,
   "metadata": {
    "collapsed": false,
    "deletable": true,
    "editable": true
   },
   "outputs": [
    {
     "data": {
      "text/plain": [
       "8970"
      ]
     },
     "execution_count": 8,
     "metadata": {},
     "output_type": "execute_result"
    }
   ],
   "source": [
    "# Count labeled data\n",
    "mongo_manager.count(collection_raw_train_data,\n",
    "                    {'label': {'$ne': 'UNK'}})\n"
   ]
  },
  {
   "cell_type": "code",
   "execution_count": null,
   "metadata": {
    "collapsed": true,
    "deletable": true,
    "editable": true
   },
   "outputs": [],
   "source": []
  }
 ],
 "metadata": {
  "kernelspec": {
   "display_name": "Python 3",
   "language": "python",
   "name": "python3"
  },
  "language_info": {
   "codemirror_mode": {
    "name": "ipython",
    "version": 3
   },
   "file_extension": ".py",
   "mimetype": "text/x-python",
   "name": "python",
   "nbconvert_exporter": "python",
   "pygments_lexer": "ipython3",
   "version": "3.5.2"
  }
 },
 "nbformat": 4,
 "nbformat_minor": 1
}
